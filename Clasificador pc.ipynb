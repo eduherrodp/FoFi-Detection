{
 "cells": [
  {
   "cell_type": "code",
   "execution_count": 6,
   "id": "1114d452-165f-4e24-b6b0-342538b04e00",
   "metadata": {},
   "outputs": [],
   "source": [
    "import sklearn\n",
    "from sklearn import tree # Se sustituirá por la red neuronal\n"
   ]
  },
  {
   "cell_type": "code",
   "execution_count": 12,
   "id": "a09cffcf-c2ec-43f5-b355-d1f1e1c67205",
   "metadata": {},
   "outputs": [],
   "source": [
    "# Esto es lo que obtendremos de la extracción de características de las imágenes digitales\n",
    "features = [\n",
    "            [7, 0.6, 40],  # Representa un pollo\n",
    "            [7, 0.6, 41],  # Representa un pollo\n",
    "            [37, 600, 37], # Representa un caballo\n",
    "            [37, 600, 38]  # Representa un caballo\n",
    "            # Tendremos el total de nuestro conjunto de entrenamiento\n",
    "           ]"
   ]
  },
  {
   "cell_type": "code",
   "execution_count": 8,
   "id": "6467852a-0c04-4e88-9038-a9be5d3ddfb4",
   "metadata": {},
   "outputs": [],
   "source": [
    "# labels = [chicken, chicken, horse, horse]\n",
    "# Estas serán nuestras salidas o clasificador para cada imagen\n",
    "labels = [0, 0, 1, 1]\n",
    "# En nuestro caso sería\n",
    "# labels = [0, 1, 2]\n",
    "# 0 → no fuego\n",
    "# 1 → fuego\n",
    "# 2 → humo"
   ]
  },
  {
   "cell_type": "code",
   "execution_count": 9,
   "id": "cb518945-be02-4588-b911-33ae6abc926a",
   "metadata": {},
   "outputs": [],
   "source": [
    "# Red neuronal que reemplaza al clasificador arbol\n",
    "classifier = tree.DecisionTreeClassifier()"
   ]
  },
  {
   "cell_type": "code",
   "execution_count": 13,
   "id": "5c01630c-b37e-4ef9-8fd7-861f427ef1cd",
   "metadata": {},
   "outputs": [
    {
     "data": {
      "text/plain": [
       "DecisionTreeClassifier()"
      ]
     },
     "execution_count": 13,
     "metadata": {},
     "output_type": "execute_result"
    }
   ],
   "source": [
    "# Entrenamiento \n",
    "# Como parámetros se pasan las características\n",
    "# Y su etiquetado respectivo\n",
    "classifier.fit(features, labels)"
   ]
  },
  {
   "cell_type": "code",
   "execution_count": 22,
   "id": "b3745b00-a619-4b4f-8d61-357d4828746a",
   "metadata": {},
   "outputs": [
    {
     "name": "stdout",
     "output_type": "stream",
     "text": [
      "Resultado: Caballo\n"
     ]
    }
   ],
   "source": [
    "from sklearn import tree\n",
    "features = [[7, 0.6, 40], [7, 0.6, 41], [37, 600, 37], [37, 600, 38]]\n",
    "#labels = [chicken, chicken, horse, horse]\n",
    "labels = [0, 0, 1, 1]\n",
    "classif = tree.DecisionTreeClassifier()\n",
    "classif.fit(features, labels)\n",
    " \n",
    "output = classif.predict([[38, 600, 37.5]])\n",
    " \n",
    "if (output == 0) :\n",
    "    print(\"Resultado: Pollo\")\n",
    "else:\n",
    "    print(\"Resultado: Caballo\")\n",
    "#output\n",
    "# [0]  or a Chicken"
   ]
  }
 ],
 "metadata": {
  "kernelspec": {
   "display_name": "Python 3 (ipykernel)",
   "language": "python",
   "name": "python3"
  },
  "language_info": {
   "codemirror_mode": {
    "name": "ipython",
    "version": 3
   },
   "file_extension": ".py",
   "mimetype": "text/x-python",
   "name": "python",
   "nbconvert_exporter": "python",
   "pygments_lexer": "ipython3",
   "version": "3.9.7"
  }
 },
 "nbformat": 4,
 "nbformat_minor": 5
}
