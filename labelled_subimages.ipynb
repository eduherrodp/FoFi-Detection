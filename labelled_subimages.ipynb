{
 "cells": [
  {
   "cell_type": "code",
   "execution_count": null,
   "id": "8db56ccb-7af0-49d1-b016-08bc0546df2b",
   "metadata": {},
   "outputs": [],
   "source": [
    "def def_images(list):\n",
    "    global images\n",
    "    images = np.zeros(0)\n",
    "\n",
    "    for i in range(len(list)):\n",
    "        images[i] = image.imread(list[i])\n",
    "        \n",
    "    "
   ]
  },
  {
   "cell_type": "code",
   "execution_count": null,
   "id": "dbda8e6a-1bec-43b5-ac3d-0a8001f35213",
   "metadata": {},
   "outputs": [],
   "source": [
    "def_images()"
   ]
  },
  {
   "cell_type": "code",
   "execution_count": 1,
   "id": "cf9523bb-e552-4d82-a0c9-3561ccaddd1c",
   "metadata": {},
   "outputs": [],
   "source": [
    "# Librerías necesarias\n",
    "import cv2\n",
    "import os\n",
    "import pathlib\n",
    "import numpy as np\n",
    "import matplotlib.pyplot as plt\n",
    "from matplotlib import image\n",
    "from mpl_toolkits.axes_grid1 import ImageGrid\n"
   ]
  },
  {
   "cell_type": "code",
   "execution_count": 2,
   "id": "f6d27a95-bb76-4680-8138-f7cce9a916ee",
   "metadata": {},
   "outputs": [],
   "source": [
    "# Creación de la lista de directorios\n",
    "parent_original = \"A:/FoFi-Detection/dataset/fire/\"\n",
    "os.chdir(parent_original)\n",
    "list_original = os.listdir(parent_original)\n",
    "del list_original[0]\n",
    "\n",
    "# print(list_original[0])\n"
   ]
  },
  {
   "cell_type": "code",
   "execution_count": 4,
   "id": "1fa01423-fc78-4a7d-a17d-79ea49e85a34",
   "metadata": {},
   "outputs": [
    {
     "name": "stdout",
     "output_type": "stream",
     "text": [
      "[1 1 1 1 1 2 3 1 1 1 1 1 1 1 1 1 1 1 1 1 1 1 2 3 1]\n",
      "saving data on: A:/FoFi-Detection/dataset/sub_fire_images/fire_0001_dir as fire_0001_labels.txt\n",
      "[1 2 2 2 1 1 2 1 2 1 2 1 2 1 2 1 2 1 1 2 1 2 1 2 1]\n",
      "saving data on: A:/FoFi-Detection/dataset/sub_fire_images/fire_0002_dir as fire_0002_labels.txt\n",
      "[2 1 2 1 2 3 1 3 1 3 2 1 3 2 1 3 2 1 3 2 1 2 3 2 1]\n",
      "saving data on: A:/FoFi-Detection/dataset/sub_fire_images/fire_0003_dir as fire_0003_labels.txt\n",
      "[3 2 1 2 3 2 2 1 3 2 1 2 2 3 2 1 2 1 2 3 2 1 2 1 2]\n",
      "saving data on: A:/FoFi-Detection/dataset/sub_fire_images/fire_0004_dir as fire_0004_labels.txt\n",
      "[2 3 2 1 2 1 2 1 3 2 1 2 1 2 1 3 2 1 2 1 3 2 1 2 2]\n",
      "saving data on: A:/FoFi-Detection/dataset/sub_fire_images/fire_0006_dir as fire_0006_labels.txt\n",
      "[1 1 2 3 2 1 2 2 1 3 2 1 2 3 2 1 2 2 1 2 3 2 1 2 3]\n",
      "saving data on: A:/FoFi-Detection/dataset/sub_fire_images/fire_0007_dir as fire_0007_labels.txt\n",
      "[1 2 3 2 1 2 3 2 1 2 3 2 2 3 2 1 2 3 2 1 2 3 2 1 2]\n",
      "saving data on: A:/FoFi-Detection/dataset/sub_fire_images/fire_0009_dir as fire_0009_labels.txt\n",
      "[ 3 -1 -1  1  1  2  1  1  1  2  1  2  1  3  1  1  1  2  3  1  1  1  1  1\n",
      "  1]\n",
      "saving data on: A:/FoFi-Detection/dataset/sub_fire_images/fire_0014_dir as fire_0014_labels.txt\n"
     ]
    },
    {
     "ename": "KeyboardInterrupt",
     "evalue": "",
     "output_type": "error",
     "traceback": [
      "\u001b[1;31m---------------------------------------------------------------------------\u001b[0m",
      "\u001b[1;31mKeyboardInterrupt\u001b[0m                         Traceback (most recent call last)",
      "\u001b[1;32m~\\AppData\\Local\\Temp/ipykernel_8428/637728892.py\u001b[0m in \u001b[0;36m<module>\u001b[1;34m\u001b[0m\n\u001b[0;32m     24\u001b[0m         \u001b[0mcv2\u001b[0m\u001b[1;33m.\u001b[0m\u001b[0mimshow\u001b[0m\u001b[1;33m(\u001b[0m\u001b[1;34m\"sub\"\u001b[0m\u001b[1;33m,\u001b[0m \u001b[0mimg_sub\u001b[0m\u001b[1;33m)\u001b[0m\u001b[1;33m\u001b[0m\u001b[1;33m\u001b[0m\u001b[0m\n\u001b[0;32m     25\u001b[0m         \u001b[0mcv2\u001b[0m\u001b[1;33m.\u001b[0m\u001b[0mmoveWindow\u001b[0m\u001b[1;33m(\u001b[0m\u001b[1;34m\"sub\"\u001b[0m\u001b[1;33m,\u001b[0m\u001b[1;36m300\u001b[0m\u001b[1;33m,\u001b[0m\u001b[1;36m30\u001b[0m\u001b[1;33m)\u001b[0m\u001b[1;33m\u001b[0m\u001b[1;33m\u001b[0m\u001b[0m\n\u001b[1;32m---> 26\u001b[1;33m         \u001b[0mk\u001b[0m \u001b[1;33m=\u001b[0m \u001b[0mcv2\u001b[0m\u001b[1;33m.\u001b[0m\u001b[0mwaitKey\u001b[0m\u001b[1;33m(\u001b[0m\u001b[1;36m0\u001b[0m\u001b[1;33m)\u001b[0m\u001b[1;33m\u001b[0m\u001b[1;33m\u001b[0m\u001b[0m\n\u001b[0m\u001b[0;32m     27\u001b[0m         \"\"\"\n\u001b[0;32m     28\u001b[0m             \u001b[1;36m1\u001b[0m \u001b[1;33m=\u001b[0m \u001b[0mFuego\u001b[0m\u001b[1;33m\u001b[0m\u001b[1;33m\u001b[0m\u001b[0m\n",
      "\u001b[1;31mKeyboardInterrupt\u001b[0m: "
     ]
    }
   ],
   "source": [
    "labels = np.zeros((25,), dtype=int)\n",
    "# print(labels)\n",
    "for i in range(len(list_original)):\n",
    "    # Creación de la lista de sub directorios para mostrar las subimagenes\n",
    "    os.chdir(parent_original)\n",
    "    parent_sub = \"A:/FoFi-Detection/dataset/sub_fire_images/\"+list_original[i][:-4]+\"_dir\"\n",
    "    # print(parent_sub)\n",
    "    img_original = cv2.imread(list_original[i])\n",
    "    title_window_original = \"original \"+str(i)+'/'+str(len(list_original))\n",
    "    cv2.putText(img=img_original, text=title_window_original, org=(10, 10), fontFace=cv2.FONT_HERSHEY_DUPLEX, fontScale=.4, color=(0, 255, 0),thickness=1)\n",
    "    cv2.imshow(\"original\", img_original)\n",
    "    cv2.moveWindow(\"original\",40,30)\n",
    "    # cv2.waitKey(0)\n",
    "    # Cambiamos al subfolder\n",
    "    os.chdir(parent_sub)\n",
    "    list_sub = os.listdir(parent_sub)\n",
    "    # print(list_sub)\n",
    "    \n",
    "    # subimagenes\n",
    "    # arreglo de etiquetados (1 para cad asubfolder, después se concatenará)\n",
    "    \n",
    "    for j in range(len(list_sub)):\n",
    "        img_sub = cv2.imread(list_sub[j])\n",
    "        cv2.imshow(\"sub\", img_sub)\n",
    "        cv2.moveWindow(\"sub\",300,30)\n",
    "        k = cv2.waitKey(0)\n",
    "        \"\"\"\n",
    "            1 = Fuego\n",
    "            2 = No fuego\n",
    "            3 = Humo\n",
    "        \"\"\"\n",
    "        if k == 49: \n",
    "            labels[j]=1\n",
    "        elif k == 50:\n",
    "            labels[j]=2\n",
    "        elif k == 51:\n",
    "            labels[j]=3\n",
    "        else:\n",
    "            # Detectar incorrectos en el txt\n",
    "            labels[j]=-1\n",
    "    \n",
    "    # Write array to a txt file\n",
    "    txt_name = list_original[i][:-4] + '_labels.txt'\n",
    "    print(labels)\n",
    "    print('saving data on: '+ parent_sub + ' as ' + txt_name )\n",
    "    np.savetxt(txt_name,labels,fmt='%d')\n",
    "    \n",
    "    "
   ]
  },
  {
   "cell_type": "code",
   "execution_count": null,
   "id": "ee73114a-8bb8-4150-be50-4e17cbbcbda1",
   "metadata": {},
   "outputs": [],
   "source": []
  },
  {
   "cell_type": "code",
   "execution_count": null,
   "id": "724a4975-7116-475a-9df1-ecb607109c57",
   "metadata": {},
   "outputs": [],
   "source": []
  },
  {
   "cell_type": "code",
   "execution_count": null,
   "id": "9a2e1b5b-eb9f-4c01-a0bf-0bc5e81be881",
   "metadata": {},
   "outputs": [],
   "source": [
    "os.chdir(parent_original)"
   ]
  },
  {
   "cell_type": "code",
   "execution_count": null,
   "id": "7979b81f-586a-431a-bf88-3a55397e8dae",
   "metadata": {},
   "outputs": [],
   "source": [
    "dir_list_original = os.listdir(parent_original)\n",
    "del dir_list_original[0] # Eliminamos checkpoint de jupyter\n",
    "# print(dir_list_original)"
   ]
  },
  {
   "cell_type": "code",
   "execution_count": null,
   "id": "e42c14f9-bd2b-4788-9478-7abe28b2b3f4",
   "metadata": {},
   "outputs": [],
   "source": [
    "for i in range(len(dir_list_original)):\n",
    "    os.chdir(parent_original)\n",
    "    parent_sub = \"A:/FoFi-Detection/dataset/sub_fire_images\"\n",
    "    path_sub = parent_sub + dir_list_original[:-4]+'_dir'\n",
    "    dir_list_sub = os.listdir\n",
    "    # Matplot code\n",
    "    def_images()\n",
    "    \n",
    "    #######\n",
    "    \n",
    "    fig = plt.figure(figsize(8.,8.))\n",
    "    grid = ImageGrid(fig, 111,\n",
    "                    nrows_ncols=(2, 2),\n",
    "                    axes_pad = 0.1\n",
    "                    )\n",
    "    for ax, im in zip(grid,images):\n",
    "        ax.imshow(im)\n",
    "        \n",
    "    plt.show()\n",
    "    # img1 = cv2.imread(dir_list_original[i])\n",
    "    # cv2.imshow('Original',img1)\n",
    "    \n",
    "    parent_sub = \"A:/FoFi-Detection/dataset/sub_fire_images/\"+dir_list_original[i][:-4]+'_dir'\n",
    "    os.chdir(parent_sub)\n",
    "    \n",
    "    dir_list_sub = os.listdir(parent_sub)\n",
    "    \n",
    "    for j in range(len(dir_list_sub)):\n",
    "        img2 = cv2.imread(dir_list_sub[j])\n",
    "        cv2.imshow('Subimage',img2)\n",
    "        cv2.waitKey(0)\n",
    "        cv2.destroyAllWindows()               "
   ]
  },
  {
   "cell_type": "code",
   "execution_count": null,
   "id": "96039583-3754-4ab3-bd59-00d3c517bcbd",
   "metadata": {},
   "outputs": [],
   "source": []
  }
 ],
 "metadata": {
  "kernelspec": {
   "display_name": "Python 3 (ipykernel)",
   "language": "python",
   "name": "python3"
  },
  "language_info": {
   "codemirror_mode": {
    "name": "ipython",
    "version": 3
   },
   "file_extension": ".py",
   "mimetype": "text/x-python",
   "name": "python",
   "nbconvert_exporter": "python",
   "pygments_lexer": "ipython3",
   "version": "3.9.7"
  }
 },
 "nbformat": 4,
 "nbformat_minor": 5
}
