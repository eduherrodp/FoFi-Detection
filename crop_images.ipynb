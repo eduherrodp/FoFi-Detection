{
 "cells": [
  {
   "cell_type": "code",
   "execution_count": 1,
   "id": "1a2c5009-70c8-486a-a000-9c258a3ff92c",
   "metadata": {},
   "outputs": [],
   "source": [
    "# Librerías necesarias\n",
    "import cv2 as cv2\n",
    "import numpy as np\n",
    "import os\n",
    "import pathlib"
   ]
  },
  {
   "cell_type": "code",
   "execution_count": 2,
   "id": "69a47dfd-b2b1-4566-9129-9cbd737dc42d",
   "metadata": {},
   "outputs": [],
   "source": [
    "os.chdir('A:/FoFi-Detection')\n",
    "\n",
    "# Directorio raiz para las subcarpetas\n",
    "parent_dir = \"A:/FoFi-Detection/dataset/sub_fire_images\"\n",
    "\n",
    "#cv2.imshow(\"original\", img)\n",
    "#cv2.waitKey(0)"
   ]
  },
  {
   "cell_type": "code",
   "execution_count": 3,
   "id": "3d19b4e1-e5b8-4606-9136-d5c7156083e7",
   "metadata": {},
   "outputs": [
    {
     "name": "stdout",
     "output_type": "stream",
     "text": [
      "Número de instancias:  398\n"
     ]
    }
   ],
   "source": [
    "# Información del dataset\n",
    "initial_count = 0\n",
    "total_count = 0\n",
    "path_fire = 'dataset/fire'\n",
    "for path in pathlib.Path(path_fire).iterdir():\n",
    "    if path.is_file():\n",
    "        initial_count += 1\n",
    "        \n",
    "total_instancias = initial_count\n",
    "print('Número de instancias: ', total_instancias)\n",
    "\n"
   ]
  },
  {
   "cell_type": "code",
   "execution_count": 4,
   "id": "1157cff4-03a3-44d3-a666-a4c038df2833",
   "metadata": {},
   "outputs": [],
   "source": [
    "# Lista de directorios de las imágenes\n",
    "\n",
    "dir_list = os.listdir(path_fire)\n",
    "del dir_list[0] # Eliminamos checkpoint de jupyter\n",
    "# print(dir_list)\n",
    "\n"
   ]
  },
  {
   "cell_type": "code",
   "execution_count": 5,
   "id": "09579430-a174-47a2-8fc2-049cb75e4d31",
   "metadata": {},
   "outputs": [],
   "source": [
    "len_dir_list = len(dir_list)\n",
    "\n",
    "# [:-4]\n",
    "# for i in range(len_dir_list):\n",
    "    # print(dir_list[i])"
   ]
  },
  {
   "cell_type": "code",
   "execution_count": 9,
   "id": "6d654ec2-5a1a-4a81-9ab2-48fcf64f97a5",
   "metadata": {},
   "outputs": [
    {
     "name": "stdout",
     "output_type": "stream",
     "text": [
      "fire_0001_0.jpg\n"
     ]
    },
    {
     "ename": "TypeError",
     "evalue": "'NoneType' object is not subscriptable",
     "output_type": "error",
     "traceback": [
      "\u001b[1;31m---------------------------------------------------------------------------\u001b[0m",
      "\u001b[1;31mTypeError\u001b[0m                                 Traceback (most recent call last)",
      "\u001b[1;32m~\\AppData\\Local\\Temp/ipykernel_24504/1308058133.py\u001b[0m in \u001b[0;36m<module>\u001b[1;34m\u001b[0m\n\u001b[0;32m     37\u001b[0m             \u001b[1;31m# print(x2,' ',y2)\u001b[0m\u001b[1;33m\u001b[0m\u001b[1;33m\u001b[0m\u001b[0m\n\u001b[0;32m     38\u001b[0m \u001b[1;33m\u001b[0m\u001b[0m\n\u001b[1;32m---> 39\u001b[1;33m             \u001b[0mcrop_img\u001b[0m \u001b[1;33m=\u001b[0m \u001b[0mimg\u001b[0m\u001b[1;33m[\u001b[0m\u001b[0my1\u001b[0m\u001b[1;33m:\u001b[0m\u001b[0my2\u001b[0m\u001b[1;33m,\u001b[0m \u001b[0mx1\u001b[0m\u001b[1;33m:\u001b[0m\u001b[0mx2\u001b[0m\u001b[1;33m]\u001b[0m\u001b[1;33m\u001b[0m\u001b[1;33m\u001b[0m\u001b[0m\n\u001b[0m\u001b[0;32m     40\u001b[0m             \u001b[1;31m#cv2.imshow(\"cropped\", crop_img)\u001b[0m\u001b[1;33m\u001b[0m\u001b[1;33m\u001b[0m\u001b[0m\n\u001b[0;32m     41\u001b[0m             \u001b[1;31m#cv2.waitKey(0)\u001b[0m\u001b[1;33m\u001b[0m\u001b[1;33m\u001b[0m\u001b[0m\n",
      "\u001b[1;31mTypeError\u001b[0m: 'NoneType' object is not subscriptable"
     ]
    }
   ],
   "source": [
    "w, h = 50, 50\n",
    "# a será el controlador de la subimagen\n",
    "a = 0\n",
    "\n",
    "\n",
    "# Posicionamiento en directorios\n",
    "os.chdir(parent_dir)\n",
    "\n",
    "# Aquí va un for para cada imagen\n",
    "\n",
    "len_dir_list = len(dir_list)\n",
    "\n",
    "for i in range(10):\n",
    "    #print(dir_list[i])\n",
    "    path = 'dataset/fire/'+dir_list[i]\n",
    "    img = cv2.imread(path)\n",
    "    \n",
    "    # Directorio para cada subcarpeta (depende de la imagen)\n",
    "    fire_dir_aux = dir_list[i][:-4]\n",
    "    fire_dir = fire_dir_aux+\"_dir\"\n",
    "\n",
    "    os.mkdir(fire_dir)\n",
    "    os.chdir(fire_dir)\n",
    "    \n",
    "    for y in range(0, 250, 50):  \n",
    "        for x in range(0, 250, 50):\n",
    "            # 'fire_0001_' será reemplazado por el nombre de la imagen que corresponda\n",
    "            image_dir = dir_list[i][:-4]+'_' + str(a) + '.jpg'\n",
    "            print(image_dir)\n",
    "            # print(x)\n",
    "            x1 = x\n",
    "            y1 = y\n",
    "            x2 = x+w\n",
    "            y2 = y+h\n",
    "\n",
    "            # print(x1,' ', y1)\n",
    "            # print(x2,' ',y2)\n",
    "\n",
    "            crop_img = img[y1:y2, x1:x2]\n",
    "            #cv2.imshow(\"cropped\", crop_img)\n",
    "            #cv2.waitKey(0)\n",
    "\n",
    "            cv2.imwrite(image_dir, crop_img)\n",
    "            a +=1"
   ]
  },
  {
   "cell_type": "markdown",
   "id": "fb569bd9-dacf-4dd2-8c9a-0d6488169f82",
   "metadata": {},
   "source": [
    "Código de apoyo"
   ]
  },
  {
   "cell_type": "code",
   "execution_count": null,
   "id": "dd126393-ae7c-4ff7-b11d-5b641baf2e41",
   "metadata": {},
   "outputs": [],
   "source": [
    "img = cv2.imread(path)\n",
    "GRID_SIZE = 50\n",
    "\n",
    "height, width, channels = img.shape\n",
    "for x in range(0, width -1, GRID_SIZE):\n",
    "     cv2.line(img, (x, 0), (x, height), (255, 0, 0), 1, 1)\n",
    "\n",
    "for y in range(0, height -1, GRID_SIZE):\n",
    "    cv2.line(img, (0, y), (height, y), (255, 0, 0), 1, 1)\n",
    "\n",
    "cv2.imshow('Hehe', img)\n",
    "key = cv2.waitKey(0)"
   ]
  },
  {
   "cell_type": "code",
   "execution_count": null,
   "id": "27aa438a-4994-4ea7-85a9-d8e890c81159",
   "metadata": {},
   "outputs": [],
   "source": [
    "# Prepare crop area\n",
    "width, height = 50, 50\n",
    "x, y = 0, 0\n",
    "# Crop image to specified area using slicing\n",
    "crop_img = img[y:y+height, x:x+width]\n",
    "\n",
    "# Nos movemos a la carpeta específicada para alamacenar las subcarpetas\n",
    "os.chdir(parent_dir)\n",
    "# Creamos una carpeta para las subimágenes obtenidas de la imagen base\n",
    "os.mkdir(fire_dir)\n",
    "# Nos movemos a la carpeta creada\n",
    "os.chdir(parent_dir+'/'+fire_dir)\n",
    "\n",
    "# Guardamos la imagen con el nombre especificado\n",
    "cv2.imwrite(image_dir, crop_img)\n"
   ]
  }
 ],
 "metadata": {
  "kernelspec": {
   "display_name": "Python 3 (ipykernel)",
   "language": "python",
   "name": "python3"
  },
  "language_info": {
   "codemirror_mode": {
    "name": "ipython",
    "version": 3
   },
   "file_extension": ".py",
   "mimetype": "text/x-python",
   "name": "python",
   "nbconvert_exporter": "python",
   "pygments_lexer": "ipython3",
   "version": "3.9.7"
  }
 },
 "nbformat": 4,
 "nbformat_minor": 5
}
